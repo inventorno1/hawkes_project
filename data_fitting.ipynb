{
 "cells": [
  {
   "cell_type": "code",
   "execution_count": 5,
   "id": "7aac3ff4-eb87-4e03-a6a2-464649bcd6c0",
   "metadata": {},
   "outputs": [],
   "source": [
    "import os\n",
    "import cmdstanpy\n",
    "from cmdstanpy import CmdStanModel\n",
    "import numpy as np\n",
    "import matplotlib.pyplot as plt\n",
    "import scipy.stats as stats\n",
    "from scipy.stats import describe, gaussian_kde, norm, expon\n",
    "import multiprocessing\n",
    "import seaborn as sns\n",
    "import warnings\n",
    "import time\n",
    "import pandas as pd"
   ]
  },
  {
   "cell_type": "code",
   "execution_count": 6,
   "id": "770a7d62-143c-465e-8e28-022d5b9dc586",
   "metadata": {},
   "outputs": [],
   "source": [
    "%matplotlib inline\n",
    "plt.rcParams['figure.figsize'] = [10, 8]\n",
    "plt.rcParams['font.size'] = 14"
   ]
  },
  {
   "cell_type": "code",
   "execution_count": 128,
   "id": "2db091e3-ee70-463c-a3d1-9bb2a0035be5",
   "metadata": {},
   "outputs": [],
   "source": [
    "from thinning import sample_hawkes_process_thinning_true_vectorised\n",
    "from utils import exp_kernel_vectorised, constant_background, plot_counting_process\n",
    "from mle import log_likelihood, optimise_params\n",
    "from utils import trace_plots, posterior_histograms, posterior_kdes_overlaid, stacked_credible_intervals"
   ]
  },
  {
   "cell_type": "code",
   "execution_count": 80,
   "id": "e04f007c-30f6-447b-9421-48c2bd440f25",
   "metadata": {},
   "outputs": [],
   "source": [
    "file_path = r\"C:\\Users\\ethan\\OneDrive - University of Bristol\\Maths\\Year 4\\Project\\hawkes_project\\guinea_first_800.csv\""
   ]
  },
  {
   "cell_type": "code",
   "execution_count": 81,
   "id": "21ac6eb8-d444-4d83-81c6-5594bbb0cd6b",
   "metadata": {},
   "outputs": [],
   "source": [
    "df = pd.read_csv(file_path)"
   ]
  },
  {
   "cell_type": "code",
   "execution_count": 82,
   "id": "df11ffd0-67f9-4551-bbf1-2ca9865311ae",
   "metadata": {},
   "outputs": [
    {
     "data": {
      "text/html": [
       "<div>\n",
       "<style scoped>\n",
       "    .dataframe tbody tr th:only-of-type {\n",
       "        vertical-align: middle;\n",
       "    }\n",
       "\n",
       "    .dataframe tbody tr th {\n",
       "        vertical-align: top;\n",
       "    }\n",
       "\n",
       "    .dataframe thead th {\n",
       "        text-align: right;\n",
       "    }\n",
       "</style>\n",
       "<table border=\"1\" class=\"dataframe\">\n",
       "  <thead>\n",
       "    <tr style=\"text-align: right;\">\n",
       "      <th></th>\n",
       "      <th>date</th>\n",
       "    </tr>\n",
       "  </thead>\n",
       "  <tbody>\n",
       "    <tr>\n",
       "      <th>0</th>\n",
       "      <td>01/01/2014</td>\n",
       "    </tr>\n",
       "    <tr>\n",
       "      <th>1</th>\n",
       "      <td>01/01/2014</td>\n",
       "    </tr>\n",
       "    <tr>\n",
       "      <th>2</th>\n",
       "      <td>06/01/2014</td>\n",
       "    </tr>\n",
       "    <tr>\n",
       "      <th>3</th>\n",
       "      <td>06/01/2014</td>\n",
       "    </tr>\n",
       "    <tr>\n",
       "      <th>4</th>\n",
       "      <td>11/01/2014</td>\n",
       "    </tr>\n",
       "  </tbody>\n",
       "</table>\n",
       "</div>"
      ],
      "text/plain": [
       "         date\n",
       "0  01/01/2014\n",
       "1  01/01/2014\n",
       "2  06/01/2014\n",
       "3  06/01/2014\n",
       "4  11/01/2014"
      ]
     },
     "execution_count": 82,
     "metadata": {},
     "output_type": "execute_result"
    }
   ],
   "source": [
    "df.head()"
   ]
  },
  {
   "cell_type": "code",
   "execution_count": 83,
   "id": "22154312-4323-4064-a4d3-5c00b40a07b8",
   "metadata": {},
   "outputs": [],
   "source": [
    "from datetime import datetime\n",
    "\n",
    "def date_to_number(date_str, date_format='%d/%m/%Y'):\n",
    "    # Parse the date string into a datetime object\n",
    "    date_object = datetime.strptime(date_str, date_format)\n",
    "    \n",
    "    # Define a reference date\n",
    "    reference_date = datetime(1900, 1, 1)\n",
    "    \n",
    "    # Calculate the difference in days between the date and the reference date\n",
    "    delta = date_object - reference_date\n",
    "    \n",
    "    # Return the number of days\n",
    "    return delta.days"
   ]
  },
  {
   "cell_type": "code",
   "execution_count": 84,
   "id": "d72bed88-37f1-41f2-bd95-05c4b37e9693",
   "metadata": {},
   "outputs": [],
   "source": [
    "df['date_number'] = df['date'].apply(date_to_number)"
   ]
  },
  {
   "cell_type": "code",
   "execution_count": 85,
   "id": "03901fd2-f221-4953-8a6a-98dae8d04b56",
   "metadata": {},
   "outputs": [
    {
     "data": {
      "text/html": [
       "<div>\n",
       "<style scoped>\n",
       "    .dataframe tbody tr th:only-of-type {\n",
       "        vertical-align: middle;\n",
       "    }\n",
       "\n",
       "    .dataframe tbody tr th {\n",
       "        vertical-align: top;\n",
       "    }\n",
       "\n",
       "    .dataframe thead th {\n",
       "        text-align: right;\n",
       "    }\n",
       "</style>\n",
       "<table border=\"1\" class=\"dataframe\">\n",
       "  <thead>\n",
       "    <tr style=\"text-align: right;\">\n",
       "      <th></th>\n",
       "      <th>date</th>\n",
       "      <th>date_number</th>\n",
       "    </tr>\n",
       "  </thead>\n",
       "  <tbody>\n",
       "    <tr>\n",
       "      <th>0</th>\n",
       "      <td>01/01/2014</td>\n",
       "      <td>41638</td>\n",
       "    </tr>\n",
       "    <tr>\n",
       "      <th>1</th>\n",
       "      <td>01/01/2014</td>\n",
       "      <td>41638</td>\n",
       "    </tr>\n",
       "    <tr>\n",
       "      <th>2</th>\n",
       "      <td>06/01/2014</td>\n",
       "      <td>41643</td>\n",
       "    </tr>\n",
       "    <tr>\n",
       "      <th>3</th>\n",
       "      <td>06/01/2014</td>\n",
       "      <td>41643</td>\n",
       "    </tr>\n",
       "    <tr>\n",
       "      <th>4</th>\n",
       "      <td>11/01/2014</td>\n",
       "      <td>41648</td>\n",
       "    </tr>\n",
       "  </tbody>\n",
       "</table>\n",
       "</div>"
      ],
      "text/plain": [
       "         date  date_number\n",
       "0  01/01/2014        41638\n",
       "1  01/01/2014        41638\n",
       "2  06/01/2014        41643\n",
       "3  06/01/2014        41643\n",
       "4  11/01/2014        41648"
      ]
     },
     "execution_count": 85,
     "metadata": {},
     "output_type": "execute_result"
    }
   ],
   "source": [
    "df.head()"
   ]
  },
  {
   "cell_type": "code",
   "execution_count": 86,
   "id": "50988a56-04ed-4ae4-9a9d-4b7e5084e048",
   "metadata": {},
   "outputs": [],
   "source": [
    "first_number = df['date_number'].iloc[0]\n",
    "df['date_number'] = df['date_number'] - first_number"
   ]
  },
  {
   "cell_type": "code",
   "execution_count": 87,
   "id": "28016575-26e8-450b-a3f6-6c213124e363",
   "metadata": {},
   "outputs": [
    {
     "data": {
      "text/html": [
       "<div>\n",
       "<style scoped>\n",
       "    .dataframe tbody tr th:only-of-type {\n",
       "        vertical-align: middle;\n",
       "    }\n",
       "\n",
       "    .dataframe tbody tr th {\n",
       "        vertical-align: top;\n",
       "    }\n",
       "\n",
       "    .dataframe thead th {\n",
       "        text-align: right;\n",
       "    }\n",
       "</style>\n",
       "<table border=\"1\" class=\"dataframe\">\n",
       "  <thead>\n",
       "    <tr style=\"text-align: right;\">\n",
       "      <th></th>\n",
       "      <th>date</th>\n",
       "      <th>date_number</th>\n",
       "    </tr>\n",
       "  </thead>\n",
       "  <tbody>\n",
       "    <tr>\n",
       "      <th>0</th>\n",
       "      <td>01/01/2014</td>\n",
       "      <td>0</td>\n",
       "    </tr>\n",
       "    <tr>\n",
       "      <th>1</th>\n",
       "      <td>01/01/2014</td>\n",
       "      <td>0</td>\n",
       "    </tr>\n",
       "    <tr>\n",
       "      <th>2</th>\n",
       "      <td>06/01/2014</td>\n",
       "      <td>5</td>\n",
       "    </tr>\n",
       "    <tr>\n",
       "      <th>3</th>\n",
       "      <td>06/01/2014</td>\n",
       "      <td>5</td>\n",
       "    </tr>\n",
       "    <tr>\n",
       "      <th>4</th>\n",
       "      <td>11/01/2014</td>\n",
       "      <td>10</td>\n",
       "    </tr>\n",
       "  </tbody>\n",
       "</table>\n",
       "</div>"
      ],
      "text/plain": [
       "         date  date_number\n",
       "0  01/01/2014            0\n",
       "1  01/01/2014            0\n",
       "2  06/01/2014            5\n",
       "3  06/01/2014            5\n",
       "4  11/01/2014           10"
      ]
     },
     "execution_count": 87,
     "metadata": {},
     "output_type": "execute_result"
    }
   ],
   "source": [
    "df.head()"
   ]
  },
  {
   "cell_type": "code",
   "execution_count": 88,
   "id": "fe14ee3d-e668-4038-ae66-28723dd061d5",
   "metadata": {},
   "outputs": [
    {
     "data": {
      "text/plain": [
       "array([  0,   0,   5,   5,  10,  14,  19,  24,  28,  31,  32,  33,  33,\n",
       "        34,  34,  37,  39,  41,  46,  47,  48,  49,  51,  51,  53,  54,\n",
       "        54,  55,  55,  57,  57,  59,  59,  59,  59,  59,  59,  59,  59,\n",
       "        59,  59,  60,  60,  61,  61,  63,  64,  65,  65,  65,  65,  66,\n",
       "        67,  68,  68,  68,  69,  69,  69,  70,  70,  70,  70,  70,  70,\n",
       "        70,  70,  70,  70,  71,  71,  71,  71,  72,  72,  72,  72,  73,\n",
       "        73,  73,  73,  74,  74,  74,  75,  76,  77,  77,  77,  78,  78,\n",
       "        78,  78,  79,  79,  79,  79,  80,  80,  80,  80,  80,  80,  81,\n",
       "        81,  81,  81,  82,  82,  82,  82,  82,  82,  83,  83,  83,  83,\n",
       "        83,  83,  84,  84,  84,  85,  85,  85,  86,  86,  87,  87,  87,\n",
       "        87,  87,  88,  88,  88,  88,  88,  88,  88,  88,  90,  90,  90,\n",
       "        91,  92,  92,  92,  94,  95,  95,  95,  95,  95,  95,  96,  96,\n",
       "        96,  96,  97,  97,  97,  97,  97,  97,  97,  97,  97,  98,  98,\n",
       "        98,  98,  98,  98,  98,  99,  99,  99,  99,  99, 100, 100, 101,\n",
       "       101, 102, 102, 103, 103, 103, 104, 104, 106, 106, 107, 107, 107,\n",
       "       107, 108, 110, 111, 111, 112, 112, 113, 115, 115, 115, 116, 120,\n",
       "       121, 121, 121, 121, 122, 122, 122, 123, 124, 124, 124, 124, 125,\n",
       "       125, 126, 126, 127, 127, 127, 127, 128, 129, 129, 130, 130, 131,\n",
       "       133, 133, 133, 134, 134, 134, 134, 134, 134, 135, 135, 135, 136,\n",
       "       137, 137, 137, 137, 137, 137, 138, 138, 138, 138, 138, 138, 139,\n",
       "       139, 139, 139, 139, 140, 140, 140, 140, 141, 141, 141, 141, 142,\n",
       "       142, 142, 142, 142, 142, 142, 143, 144, 144, 144, 144, 144, 144,\n",
       "       144, 144, 144, 144, 144, 145, 145, 145, 145, 146, 146, 146, 146,\n",
       "       146, 146, 146, 147, 147, 147, 147, 147, 147, 147, 148, 148, 149,\n",
       "       150, 150, 151, 151, 151, 152, 152, 152, 152, 152, 153, 153, 153,\n",
       "       153, 153, 153, 153, 153, 154, 154, 154, 154, 155, 155, 155, 155,\n",
       "       155, 155, 155, 156, 156, 157, 157, 158, 158, 158, 159, 159, 159,\n",
       "       159, 159, 159, 159, 159, 159, 159, 160, 160, 160, 161, 161, 161,\n",
       "       163, 164, 164, 164, 164, 165, 165, 166, 166, 166, 166, 166, 166,\n",
       "       166, 167, 167, 167, 167, 168, 168, 168, 168, 168, 168, 169, 169,\n",
       "       169, 169, 169, 169, 169, 169, 169, 169, 169, 170, 170, 170, 170,\n",
       "       171, 171, 171, 171, 172, 173, 173, 174, 174, 175, 175, 176, 177,\n",
       "       181, 181, 182, 182, 182, 182, 183, 183, 184, 184, 185, 185, 186,\n",
       "       186, 187, 187, 187, 188, 189, 189, 190, 190, 192, 192, 193, 195,\n",
       "       195, 195, 196, 197, 197, 197, 197, 197, 198, 198, 198, 198, 198,\n",
       "       198, 198, 198, 198, 198, 199, 199, 200, 200, 201, 201, 201, 201,\n",
       "       201, 202, 202, 203, 203, 203, 203, 203, 203, 203, 204, 204, 205,\n",
       "       205, 207, 207, 208, 208, 209, 210, 210, 210, 211, 211, 212, 212,\n",
       "       212, 212, 212, 212, 212, 212, 213, 213, 213, 213, 213, 213, 214,\n",
       "       214, 214, 214, 214, 215, 216, 216, 216, 216, 216, 216, 217, 217,\n",
       "       218, 218, 218, 218, 218, 218, 219, 219, 219, 220, 220, 221, 221,\n",
       "       221, 221, 221, 221, 221, 221, 221, 221, 222, 222, 222, 222, 222,\n",
       "       222, 223, 223, 223, 223, 223, 223, 223, 223, 223, 223, 223, 223,\n",
       "       223, 223, 223, 223, 223, 223, 224, 224, 224, 224, 224, 224, 224,\n",
       "       224, 224, 224, 224, 225, 225, 225, 225, 225, 225, 225, 225, 225,\n",
       "       225, 226, 226, 226, 226, 226, 226, 226, 226, 226, 226, 226, 226,\n",
       "       226, 226, 226, 227, 227, 227, 227, 227, 227, 227, 227, 227, 228,\n",
       "       228, 228, 228, 228, 228, 228, 229, 229, 229, 229, 229, 229, 229,\n",
       "       229, 229, 229, 230, 230, 230, 230, 230, 230, 230, 230, 230, 230,\n",
       "       230, 230, 230, 231, 231, 231, 231, 231, 231, 231, 231, 231, 231,\n",
       "       231, 231, 231, 231, 231, 231, 231, 231, 231, 231, 231, 231, 231,\n",
       "       231, 231, 231, 231, 231, 231, 231, 231, 231, 232, 232, 232, 232,\n",
       "       232, 232, 232, 232, 232, 232, 232, 232, 232, 232, 232, 232, 232,\n",
       "       232, 232, 233, 233, 233, 233, 233, 233, 233, 233, 234, 234, 234,\n",
       "       234, 234, 234, 234, 234, 234, 234, 234, 234, 235, 235, 235, 235,\n",
       "       235, 235, 235, 235, 236, 236, 236, 236, 236, 236, 236, 236, 236,\n",
       "       236, 236, 236, 236, 236, 236, 236, 236, 236, 236, 236, 236, 236,\n",
       "       236, 237, 237, 237, 237, 237, 237, 237, 237, 237, 237, 237, 237,\n",
       "       237, 237, 237, 237, 237, 237, 237, 238, 238, 238, 238, 238, 238,\n",
       "       238, 238, 238, 238, 238, 238, 239, 239, 239, 239, 239, 239, 239,\n",
       "       239, 239, 239, 239, 239, 239, 239, 239, 239, 240, 240, 240, 240,\n",
       "       240, 240, 240, 240, 240, 240, 241], dtype=int64)"
      ]
     },
     "execution_count": 88,
     "metadata": {},
     "output_type": "execute_result"
    }
   ],
   "source": [
    "df['date_number'].values"
   ]
  },
  {
   "cell_type": "code",
   "execution_count": 121,
   "id": "4788203a-2506-4614-886d-9cf9c2a08b0c",
   "metadata": {},
   "outputs": [],
   "source": [
    "def interpolate_days(date_numbers_original):\n",
    "    date_numbers = date_numbers_original.astype('float64').copy()\n",
    "    current_number = date_numbers[0]\n",
    "    current_index = 0\n",
    "    count = 1\n",
    "    for i, number in enumerate(date_numbers[1:], start=1):\n",
    "        if number == current_number:\n",
    "            count += 1\n",
    "        else:\n",
    "            date_numbers[current_index: current_index+count] += np.arange(0, 1, 1/count)\n",
    "            current_number = number\n",
    "            current_index = i\n",
    "            count = 1\n",
    "    return date_numbers"
   ]
  },
  {
   "cell_type": "code",
   "execution_count": 124,
   "id": "ff5d1375-1f15-4314-9146-5a00cd0bca45",
   "metadata": {},
   "outputs": [],
   "source": [
    "date_numbers_interpolated = interpolate_days(df['date_number'].values)"
   ]
  },
  {
   "cell_type": "code",
   "execution_count": 126,
   "id": "5200b867-b0b1-4f54-b78a-2dc7a1f082a1",
   "metadata": {},
   "outputs": [
    {
     "data": {
      "text/plain": [
       "array([240.6, 240.7, 240.8, 240.9, 241. ])"
      ]
     },
     "execution_count": 126,
     "metadata": {},
     "output_type": "execute_result"
    }
   ],
   "source": [
    "date_numbers_interpolated[-5:]"
   ]
  },
  {
   "cell_type": "code",
   "execution_count": 135,
   "id": "5eb713b6-a365-4eb7-8c5e-be8514d4b2bb",
   "metadata": {},
   "outputs": [],
   "source": [
    "max_T = date_numbers_interpolated[-1]+1"
   ]
  },
  {
   "cell_type": "code",
   "execution_count": 136,
   "id": "35575bf1-a10c-4c25-adda-0fcdd235cbc2",
   "metadata": {},
   "outputs": [],
   "source": [
    "data = date_numbers_interpolated, max_T\n",
    "initial_guess = [0.5, 0.5, 0.5]\n",
    "current_params, _ = optimise_params(data, initial_guess, 1e-6)"
   ]
  },
  {
   "cell_type": "code",
   "execution_count": 137,
   "id": "c2cb29ad-449b-4c5b-af25-077e6fbe411f",
   "metadata": {},
   "outputs": [
    {
     "data": {
      "text/plain": [
       "array([0.36832591, 0.52377253, 0.57994229])"
      ]
     },
     "execution_count": 137,
     "metadata": {},
     "output_type": "execute_result"
    }
   ],
   "source": [
    "current_params"
   ]
  },
  {
   "cell_type": "code",
   "execution_count": 138,
   "id": "62dd2789-101b-46ad-88b2-9b47ed80509b",
   "metadata": {},
   "outputs": [],
   "source": [
    "stan_file = os.path.join('.', 'bayesian_clean', 'models', 'exponential_priors.stan')\n",
    "model_compiled = CmdStanModel(stan_file=stan_file,\n",
    "                                # If you want multi-thread option, need to recompile\n",
    "                                cpp_options={'STAN_THREADS': 'TRUE'},\n",
    "                                # turn off below to avoid recompiling\n",
    "                                # force_compile=True\n",
    "                                )"
   ]
  },
  {
   "cell_type": "code",
   "execution_count": 145,
   "id": "ae532107-495d-443c-abb5-5619716e0ec4",
   "metadata": {},
   "outputs": [],
   "source": [
    "param_strings = ['mu', 'alpha', 'delta']"
   ]
  },
  {
   "cell_type": "code",
   "execution_count": 139,
   "id": "cf052c06-414d-40c7-8a37-c8caf3c6cf13",
   "metadata": {},
   "outputs": [],
   "source": [
    "data = {\n",
    "    \"N\": len(date_numbers_interpolated),\n",
    "    \"events_list\": date_numbers_interpolated,\n",
    "    \"max_T\": max_T             \n",
    "}"
   ]
  },
  {
   "cell_type": "code",
   "execution_count": 142,
   "id": "615c2d06-29ea-4cea-b87d-ac088da3c47f",
   "metadata": {},
   "outputs": [
    {
     "name": "stderr",
     "output_type": "stream",
     "text": [
      "23:22:15 - cmdstanpy - INFO - CmdStan start processing\n"
     ]
    },
    {
     "data": {
      "application/vnd.jupyter.widget-view+json": {
       "model_id": "23e9d2b8dadf4b7386c97f6c442b82f8",
       "version_major": 2,
       "version_minor": 0
      },
      "text/plain": [
       "chain 1 |          | 00:00 Status"
      ]
     },
     "metadata": {},
     "output_type": "display_data"
    },
    {
     "data": {
      "application/vnd.jupyter.widget-view+json": {
       "model_id": "6117fc0577da483fb1352295946772e7",
       "version_major": 2,
       "version_minor": 0
      },
      "text/plain": [
       "chain 2 |          | 00:00 Status"
      ]
     },
     "metadata": {},
     "output_type": "display_data"
    },
    {
     "name": "stdout",
     "output_type": "stream",
     "text": [
      "                                                                                                                                                                "
     ]
    },
    {
     "name": "stderr",
     "output_type": "stream",
     "text": [
      "23:47:43 - cmdstanpy - INFO - CmdStan done processing.\n"
     ]
    },
    {
     "name": "stdout",
     "output_type": "stream",
     "text": [
      "\n"
     ]
    }
   ],
   "source": [
    "warmup=250\n",
    "fit = model_compiled.sample(data=data,\n",
    "                                seed=123,\n",
    "                                chains=2,\n",
    "                                parallel_chains=2,\n",
    "                                iter_warmup=warmup,\n",
    "                                iter_sampling=3*warmup,\n",
    "                                inits=\"0\",\n",
    "                                save_warmup=True)"
   ]
  },
  {
   "cell_type": "code",
   "execution_count": 143,
   "id": "4eda58ae-96fb-424f-80fb-2baad933981a",
   "metadata": {},
   "outputs": [
    {
     "data": {
      "text/html": [
       "<div>\n",
       "<style scoped>\n",
       "    .dataframe tbody tr th:only-of-type {\n",
       "        vertical-align: middle;\n",
       "    }\n",
       "\n",
       "    .dataframe tbody tr th {\n",
       "        vertical-align: top;\n",
       "    }\n",
       "\n",
       "    .dataframe thead th {\n",
       "        text-align: right;\n",
       "    }\n",
       "</style>\n",
       "<table border=\"1\" class=\"dataframe\">\n",
       "  <thead>\n",
       "    <tr style=\"text-align: right;\">\n",
       "      <th></th>\n",
       "      <th>Mean</th>\n",
       "      <th>MCSE</th>\n",
       "      <th>StdDev</th>\n",
       "      <th>5%</th>\n",
       "      <th>50%</th>\n",
       "      <th>95%</th>\n",
       "      <th>N_Eff</th>\n",
       "      <th>N_Eff/s</th>\n",
       "      <th>R_hat</th>\n",
       "    </tr>\n",
       "  </thead>\n",
       "  <tbody>\n",
       "    <tr>\n",
       "      <th>lp__</th>\n",
       "      <td>436.535000</td>\n",
       "      <td>0.059193</td>\n",
       "      <td>1.301380</td>\n",
       "      <td>433.935000</td>\n",
       "      <td>436.851000</td>\n",
       "      <td>437.991000</td>\n",
       "      <td>483.36</td>\n",
       "      <td>0.238746</td>\n",
       "      <td>1.004190</td>\n",
       "    </tr>\n",
       "    <tr>\n",
       "      <th>mu</th>\n",
       "      <td>0.392197</td>\n",
       "      <td>0.004410</td>\n",
       "      <td>0.104044</td>\n",
       "      <td>0.227410</td>\n",
       "      <td>0.387585</td>\n",
       "      <td>0.575392</td>\n",
       "      <td>556.60</td>\n",
       "      <td>0.274922</td>\n",
       "      <td>1.002990</td>\n",
       "    </tr>\n",
       "    <tr>\n",
       "      <th>alpha</th>\n",
       "      <td>0.540662</td>\n",
       "      <td>0.004818</td>\n",
       "      <td>0.094142</td>\n",
       "      <td>0.397916</td>\n",
       "      <td>0.535196</td>\n",
       "      <td>0.707641</td>\n",
       "      <td>381.86</td>\n",
       "      <td>0.188612</td>\n",
       "      <td>0.999800</td>\n",
       "    </tr>\n",
       "    <tr>\n",
       "      <th>delta</th>\n",
       "      <td>0.604796</td>\n",
       "      <td>0.005851</td>\n",
       "      <td>0.113198</td>\n",
       "      <td>0.432019</td>\n",
       "      <td>0.599686</td>\n",
       "      <td>0.796912</td>\n",
       "      <td>374.32</td>\n",
       "      <td>0.184888</td>\n",
       "      <td>0.999866</td>\n",
       "    </tr>\n",
       "  </tbody>\n",
       "</table>\n",
       "</div>"
      ],
      "text/plain": [
       "             Mean      MCSE    StdDev  ...   N_Eff   N_Eff/s     R_hat\n",
       "lp__   436.535000  0.059193  1.301380  ...  483.36  0.238746  1.004190\n",
       "mu       0.392197  0.004410  0.104044  ...  556.60  0.274922  1.002990\n",
       "alpha    0.540662  0.004818  0.094142  ...  381.86  0.188612  0.999800\n",
       "delta    0.604796  0.005851  0.113198  ...  374.32  0.184888  0.999866\n",
       "\n",
       "[4 rows x 9 columns]"
      ]
     },
     "execution_count": 143,
     "metadata": {},
     "output_type": "execute_result"
    }
   ],
   "source": [
    "fit.summary()"
   ]
  },
  {
   "cell_type": "code",
   "execution_count": 144,
   "id": "3be462f9-3d07-4a8d-a8ce-c24056fb4dc8",
   "metadata": {},
   "outputs": [
    {
     "name": "stdout",
     "output_type": "stream",
     "text": [
      "Processing csv files: C:\\Users\\ethan\\AppData\\Local\\Temp\\tmpyx6bm6rm\\exponential_priorsclv7i2p4\\exponential_priors-20240425232215_1.csvWarning: non-fatal error reading adaptation data\n",
      ", C:\\Users\\ethan\\AppData\\Local\\Temp\\tmpyx6bm6rm\\exponential_priorsclv7i2p4\\exponential_priors-20240425232215_2.csvWarning: non-fatal error reading adaptation data\n",
      "\n",
      "\n",
      "Checking sampler transitions treedepth.\n",
      "Treedepth satisfactory for all transitions.\n",
      "\n",
      "Checking sampler transitions for divergences.\n",
      "No divergent transitions found.\n",
      "\n",
      "Checking E-BFMI - sampler transitions HMC potential energy.\n",
      "E-BFMI satisfactory.\n",
      "\n",
      "Effective sample size satisfactory.\n",
      "\n",
      "Split R-hat values satisfactory all parameters.\n",
      "\n",
      "Processing complete, no problems detected.\n",
      "\n"
     ]
    }
   ],
   "source": [
    "print(fit.diagnose())"
   ]
  },
  {
   "cell_type": "code",
   "execution_count": 149,
   "id": "cfe39b02-0e6a-47d2-ac8c-befab553a159",
   "metadata": {},
   "outputs": [
    {
     "data": {
      "image/png": "[encoded data removed]",
      "text/plain": [
       "<Figure size 1080x216 with 3 Axes>"
      ]
     },
     "metadata": {},
     "output_type": "display_data"
    }
   ],
   "source": [
    "trace_plots([fit], param_strings, warmup=250)"
   ]
  },
  {
   "cell_type": "code",
   "execution_count": 150,
   "id": "20af8b0f-ea2d-4b6a-88a5-41fc747638e9",
   "metadata": {},
   "outputs": [
    {
     "data": {
      "image/png": "[encoded data removed]",
      "text/plain": [
       "<Figure size 1080x216 with 3 Axes>"
      ]
     },
     "metadata": {},
     "output_type": "display_data"
    }
   ],
   "source": [
    "posterior_histograms([fit], param_strings, [lambda x: expon.pdf(x, scale=1/0.01)]*3)"
   ]
  },
  {
   "cell_type": "code",
   "execution_count": 155,
   "id": "77f228b0-6a60-4483-bf10-0c009e36aae9",
   "metadata": {},
   "outputs": [
    {
     "data": {
      "text/plain": [
       "'.\\\\data_fitting'"
      ]
     },
     "execution_count": 155,
     "metadata": {},
     "output_type": "execute_result"
    }
   ],
   "source": [
    "save_dir = os.path.join('.', 'data_fitting')\n",
    "save_dir"
   ]
  },
  {
   "cell_type": "code",
   "execution_count": 156,
   "id": "54682631-5120-4841-b169-3cb9a62534e0",
   "metadata": {},
   "outputs": [],
   "source": [
    "save_path = os.path.join(save_dir, 'guinea_exp_priors')"
   ]
  },
  {
   "cell_type": "code",
   "execution_count": 157,
   "id": "d1ca17bd-6b88-4eca-aa93-f9c9d15827f5",
   "metadata": {},
   "outputs": [],
   "source": [
    "fit.save_csvfiles(save_path)"
   ]
  }
 ],
 "metadata": {
  "kernelspec": {
   "display_name": "Python 3 (Spyder)",
   "language": "python3",
   "name": "python3"
  },
  "language_info": {
   "codemirror_mode": {
    "name": "ipython",
    "version": 3
   },
   "file_extension": ".py",
   "mimetype": "text/x-python",
   "name": "python",
   "nbconvert_exporter": "python",
   "pygments_lexer": "ipython3",
   "version": "3.12.3"
  }
 },
 "nbformat": 4,
 "nbformat_minor": 5
}
