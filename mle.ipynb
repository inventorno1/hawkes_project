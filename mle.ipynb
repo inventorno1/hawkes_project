{
 "cells": [
  {
   "cell_type": "code",
   "execution_count": 1,
   "metadata": {},
   "outputs": [],
   "source": [
    "import numpy as np\n",
    "import matplotlib.pyplot as plt\n",
    "from scipy.optimize import minimize"
   ]
  },
  {
   "cell_type": "code",
   "execution_count": 2,
   "metadata": {},
   "outputs": [],
   "source": [
    "from thinning import sample_hawkes_process_thinning, sample_hawkes_process_thinning_vectorised, sample_hawkes_process_thinning_true_vectorised\n",
    "from utils import exp_kernel, constant_background, plot_counting_process, exp_kernel_vectorised, conditional_intensity, conditional_intensity_vectorised, conditional_intensity_true_vectorised\n",
    "from time_rescaling import rescale_times, rescale_times_true_vectorised\n",
    "from clustering import simulate_homogeneous_poisson_process, simulate_inhomogeneous_poisson_process, simulate_immigrants, simulate_offspring, produce_cluster, sample_hawkes_process_clustering, cluster_plot"
   ]
  },
  {
   "cell_type": "code",
   "execution_count": 3,
   "metadata": {},
   "outputs": [],
   "source": [
    "from mle import log_likelihood, old_log_likelihood"
   ]
  },
  {
   "cell_type": "code",
   "execution_count": 4,
   "metadata": {},
   "outputs": [],
   "source": [
    "max_T = 1000"
   ]
  },
  {
   "cell_type": "code",
   "execution_count": 5,
   "metadata": {},
   "outputs": [],
   "source": [
    "hawkes_realisation = sample_hawkes_process_thinning_true_vectorised(max_T, constant_background, exp_kernel_vectorised)"
   ]
  },
  {
   "cell_type": "code",
   "execution_count": 6,
   "metadata": {},
   "outputs": [
    {
     "data": {
      "image/png": "[encoded data removed]",
      "text/plain": [
       "<Figure size 640x480 with 1 Axes>"
      ]
     },
     "metadata": {},
     "output_type": "display_data"
    }
   ],
   "source": [
    "plot_counting_process(hawkes_realisation)"
   ]
  },
  {
   "cell_type": "code",
   "execution_count": 7,
   "metadata": {},
   "outputs": [],
   "source": [
    "params = [1, 1, 2]\n",
    "data = hawkes_realisation, max_T"
   ]
  },
  {
   "cell_type": "code",
   "execution_count": 8,
   "metadata": {},
   "outputs": [],
   "source": [
    "# Simple grid search"
   ]
  },
  {
   "cell_type": "code",
   "execution_count": 9,
   "metadata": {},
   "outputs": [],
   "source": [
    "values = np.arange(0.1,2.1,0.1)"
   ]
  },
  {
   "cell_type": "code",
   "execution_count": 11,
   "metadata": {},
   "outputs": [
    {
     "name": "stdout",
     "output_type": "stream",
     "text": [
      "Current mu:  0.1\n",
      "New best ll of -657.0051523800676 for params (0.1, 0.1, 0.1)\n",
      "New best ll of -625.3618519278546 for params (0.1, 0.2, 0.2)\n",
      "New best ll of -604.2789638173283 for params (0.1, 0.30000000000000004, 0.30000000000000004)\n",
      "New best ll of -591.8976941066435 for params (0.1, 0.4, 0.4)\n",
      "New best ll of -586.0090909944613 for params (0.1, 0.5, 0.5)\n",
      "New best ll of -584.9123347715056 for params (0.1, 0.6, 0.6)\n",
      "Current mu:  0.2\n",
      "New best ll of -573.3808556844999 for params (0.2, 0.4, 0.5)\n",
      "New best ll of -562.5162410329365 for params (0.2, 0.5, 0.6)\n",
      "New best ll of -557.9478606757104 for params (0.2, 0.6, 0.7000000000000001)\n",
      "New best ll of -557.294887856048 for params (0.2, 0.7000000000000001, 0.8)\n",
      "Current mu:  0.30000000000000004\n",
      "New best ll of -555.733285052431 for params (0.30000000000000004, 0.4, 0.5)\n",
      "New best ll of -545.9772610730238 for params (0.30000000000000004, 0.5, 0.6)\n",
      "New best ll of -541.1343905401702 for params (0.30000000000000004, 0.6, 0.7000000000000001)\n",
      "New best ll of -540.4318591687534 for params (0.30000000000000004, 0.6, 0.8)\n",
      "New best ll of -539.3803637218634 for params (0.30000000000000004, 0.7000000000000001, 0.8)\n",
      "New best ll of -535.2529198038812 for params (0.30000000000000004, 0.7000000000000001, 0.9)\n",
      "New best ll of -533.8562994012957 for params (0.30000000000000004, 0.8, 1.0)\n",
      "Current mu:  0.4\n",
      "New best ll of -530.3646475678556 for params (0.4, 0.5, 0.7000000000000001)\n",
      "New best ll of -521.446460562368 for params (0.4, 0.6, 0.8)\n",
      "New best ll of -517.2631813081778 for params (0.4, 0.7000000000000001, 0.9)\n",
      "New best ll of -516.1008169448849 for params (0.4, 0.8, 1.0)\n",
      "New best ll of -513.4909734866944 for params (0.4, 0.8, 1.1)\n",
      "New best ll of -512.5631699967864 for params (0.4, 0.9, 1.2000000000000002)\n",
      "Current mu:  0.5\n",
      "New best ll of -512.2640212180374 for params (0.5, 0.6, 0.8)\n",
      "New best ll of -507.5905548176004 for params (0.5, 0.6, 0.9)\n",
      "New best ll of -501.0036619115783 for params (0.5, 0.7000000000000001, 1.0)\n",
      "New best ll of -498.25120770335866 for params (0.5, 0.8, 1.1)\n",
      "New best ll of -497.07016074046874 for params (0.5, 0.8, 1.2000000000000002)\n",
      "New best ll of -494.73277000103326 for params (0.5, 0.9, 1.3000000000000003)\n",
      "Current mu:  0.6\n",
      "New best ll of -493.60385788577605 for params (0.6, 0.7000000000000001, 1.0)\n",
      "New best ll of -488.69331795395055 for params (0.6, 0.7000000000000001, 1.1)\n",
      "New best ll of -484.81299267863415 for params (0.6, 0.8, 1.2000000000000002)\n",
      "New best ll of -484.07380766147435 for params (0.6, 0.8, 1.3000000000000003)\n",
      "New best ll of -483.8384210767349 for params (0.6, 0.9, 1.3000000000000003)\n",
      "New best ll of -480.9582528765209 for params (0.6, 0.9, 1.4000000000000001)\n",
      "New best ll of -480.4687363914227 for params (0.6, 1.0, 1.5000000000000002)\n",
      "New best ll of -480.331084279019 for params (0.6, 1.0, 1.6)\n",
      "Current mu:  0.7000000000000001\n",
      "New best ll of -479.5465573504648 for params (0.7000000000000001, 0.7000000000000001, 1.2000000000000002)\n",
      "New best ll of -475.0713636843741 for params (0.7000000000000001, 0.8, 1.3000000000000003)\n",
      "New best ll of -474.28513703371664 for params (0.7000000000000001, 0.8, 1.4000000000000001)\n",
      "New best ll of -473.68464172178096 for params (0.7000000000000001, 0.9, 1.4000000000000001)\n",
      "New best ll of -470.8938320425284 for params (0.7000000000000001, 0.9, 1.5000000000000002)\n",
      "New best ll of -470.1587436631519 for params (0.7000000000000001, 1.0, 1.6)\n",
      "New best ll of -469.3088743163298 for params (0.7000000000000001, 1.0, 1.7000000000000002)\n",
      "New best ll of -469.23549397272905 for params (0.7000000000000001, 1.1, 1.8000000000000003)\n",
      "Current mu:  0.8\n",
      "New best ll of -468.6701549878185 for params (0.8, 0.8, 1.4000000000000001)\n",
      "New best ll of -467.61249420514673 for params (0.8, 0.8, 1.5000000000000002)\n",
      "New best ll of -467.208376215317 for params (0.8, 0.9, 1.5000000000000002)\n",
      "New best ll of -464.3260889646592 for params (0.8, 0.9, 1.6)\n",
      "New best ll of -464.31050717554103 for params (0.8, 0.9, 1.7000000000000002)\n",
      "New best ll of -463.6506299294556 for params (0.8, 1.0, 1.7000000000000002)\n",
      "New best ll of -462.1781023077165 for params (0.8, 1.0, 1.8000000000000003)\n",
      "New best ll of -461.7640605738434 for params (0.8, 1.1, 2.0)\n",
      "Current mu:  0.9\n",
      "New best ll of -461.1020196750617 for params (0.9, 0.9, 1.7000000000000002)\n",
      "New best ll of -460.40288559312285 for params (0.9, 0.9, 1.8000000000000003)\n",
      "New best ll of -458.70350381711273 for params (0.9, 1.0, 1.9000000000000001)\n",
      "New best ll of -458.5459852407587 for params (0.9, 1.0, 2.0)\n",
      "Current mu:  1.0\n",
      "Current mu:  1.1\n",
      "Current mu:  1.2000000000000002\n",
      "Current mu:  1.3000000000000003\n",
      "Current mu:  1.4000000000000001\n",
      "Current mu:  1.5000000000000002\n",
      "Current mu:  1.6\n",
      "Current mu:  1.7000000000000002\n",
      "Current mu:  1.8000000000000003\n",
      "Current mu:  1.9000000000000001\n",
      "Current mu:  2.0\n"
     ]
    }
   ],
   "source": [
    "best_log_likelihood = -100000\n",
    "\n",
    "for mu in values:\n",
    "    print('Current mu: ', mu)\n",
    "    for alpha in values:\n",
    "        for delta in values:\n",
    "\n",
    "            params = (mu, alpha, delta)\n",
    "\n",
    "            ll = log_likelihood(params, data)\n",
    "\n",
    "            if ll > best_log_likelihood:\n",
    "                best_log_likelihood = ll\n",
    "                best_params = params\n",
    "                print(f\"New best ll of {best_log_likelihood} for params {params}\")"
   ]
  },
  {
   "cell_type": "code",
   "execution_count": 13,
   "metadata": {},
   "outputs": [
    {
     "name": "stdout",
     "output_type": "stream",
     "text": [
      "-458.5459852407587\n",
      "(0.9, 1.0, 2.0)\n"
     ]
    }
   ],
   "source": [
    "print(best_log_likelihood)\n",
    "print(best_params)\n",
    "\n",
    "# Output of above (took 10 mins)\n",
    "# -458.5459852407587\n",
    "# (0.9, 1.0, 2.0)"
   ]
  },
  {
   "cell_type": "markdown",
   "metadata": {},
   "source": [
    "Checking values of delta above 2 for completeness."
   ]
  },
  {
   "cell_type": "code",
   "execution_count": 17,
   "metadata": {},
   "outputs": [
    {
     "name": "stdout",
     "output_type": "stream",
     "text": [
      "0.1\n",
      "0.2\n",
      "0.30000000000000004\n",
      "0.4\n",
      "0.5\n",
      "0.6\n",
      "0.7000000000000001\n",
      "0.8\n",
      "0.9\n",
      "1.0\n",
      "1.1\n",
      "New best ll of -457.85565948659587 for params (0.9, 1.1, 2.1)\n",
      "1.2000000000000002\n",
      "1.3000000000000003\n",
      "1.4000000000000001\n",
      "1.5000000000000002\n",
      "1.6\n",
      "1.7000000000000002\n",
      "1.8000000000000003\n",
      "1.9000000000000001\n",
      "2.0\n"
     ]
    }
   ],
   "source": [
    "mu = 0.9\n",
    "for alpha in values:\n",
    "    print(alpha)\n",
    "    for delta in (values+1):\n",
    "        params = (mu, alpha, delta)\n",
    "\n",
    "        ll = log_likelihood(params, data)\n",
    "\n",
    "        if ll > best_log_likelihood:\n",
    "            best_log_likelihood = ll\n",
    "            best_params = params\n",
    "            print(f\"New best ll of {best_log_likelihood} for params {params}\")"
   ]
  },
  {
   "cell_type": "code",
   "execution_count": 18,
   "metadata": {},
   "outputs": [],
   "source": [
    "# Output of above\n",
    "# New best ll of -457.85565948659587 for params (0.9, 1.1, 2.1)"
   ]
  },
  {
   "cell_type": "code",
   "execution_count": 17,
   "metadata": {},
   "outputs": [
    {
     "name": "stdout",
     "output_type": "stream",
     "text": [
      "Optimized Parameters: [1.12535634 0.94286318 1.94129922]\n",
      "Maximum Value: -273.3935164324753\n"
     ]
    }
   ],
   "source": [
    "from scipy.optimize import minimize\n",
    "\n",
    "# Initial guess for the parameters\n",
    "initial_guess = [10, 10, 10]\n",
    "\n",
    "# Define bounds if necessary\n",
    "epsilon = 0.1\n",
    "bounds = [(epsilon, None), (epsilon, None), (epsilon, None)]  # Example bounds, adjust as needed\n",
    "\n",
    "# Use the minimize function to find the maximum\n",
    "result = minimize(lambda params: -log_likelihood(params, data=data), initial_guess, bounds=bounds)\n",
    "\n",
    "# The optimized parameters are in result.x\n",
    "optimized_parameters = result.x\n",
    "\n",
    "print(\"Optimized Parameters:\", optimized_parameters)\n",
    "print(\"Maximum Value:\", -result.fun)  # Negate the value if your function was negated for maximization\n"
   ]
  },
  {
   "cell_type": "code",
   "execution_count": 19,
   "metadata": {},
   "outputs": [
    {
     "data": {
      "text/plain": [
       "  message: CONVERGENCE: REL_REDUCTION_OF_F_<=_FACTR*EPSMCH\n",
       "  success: True\n",
       "   status: 0\n",
       "      fun: 273.3935164324357\n",
       "        x: [ 1.125e+00  9.429e-01  1.941e+00]\n",
       "      nit: 17\n",
       "      jac: [ 0.000e+00  4.547e-05 -2.274e-05]\n",
       "     nfev: 96\n",
       "     njev: 24\n",
       " hess_inv: <3x3 LbfgsInvHessProduct with dtype=float64>"
      ]
     },
     "execution_count": 19,
     "metadata": {},
     "output_type": "execute_result"
    }
   ],
   "source": [
    "result"
   ]
  },
  {
   "cell_type": "markdown",
   "metadata": {},
   "source": [
    "Giving >0.1 bound for all parameters led to right answer. No bounds convergence fails. Bound >1e-10 converges but get worse parameter values particularly for delta."
   ]
  },
  {
   "cell_type": "code",
   "execution_count": 20,
   "metadata": {},
   "outputs": [
    {
     "name": "stdout",
     "output_type": "stream",
     "text": [
      "Optimized Parameters: [1.12535634 0.9428641  1.94130162]\n",
      "Maximum Value: -273.3935164324357\n"
     ]
    }
   ],
   "source": [
    "# Initial guess for the parameters\n",
    "initial_guess = [5, 4, 3]\n",
    "\n",
    "# Define bounds if necessary\n",
    "bounds = [(0.1, None), (0.1, None), (0.1, None)]  # Example bounds, adjust as needed\n",
    "\n",
    "# Use the minimize function to find the maximum\n",
    "result = minimize(lambda params: -log_likelihood(params, data=data), initial_guess, bounds=bounds)\n",
    "\n",
    "# The optimized parameters are in result.x\n",
    "optimized_parameters = result.x\n",
    "\n",
    "print(\"Optimized Parameters:\", optimized_parameters)\n",
    "print(\"Maximum Value:\", -result.fun)  # Negate the value if your function was negated for maximization\n"
   ]
  }
 ],
 "metadata": {
  "kernelspec": {
   "display_name": "base",
   "language": "python",
   "name": "python3"
  },
  "language_info": {
   "codemirror_mode": {
    "name": "ipython",
    "version": 3
   },
   "file_extension": ".py",
   "mimetype": "text/x-python",
   "name": "python",
   "nbconvert_exporter": "python",
   "pygments_lexer": "ipython3",
   "version": "3.11.5"
  }
 },
 "nbformat": 4,
 "nbformat_minor": 2
}
