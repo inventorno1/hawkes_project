{
 "cells": [
  {
   "cell_type": "code",
   "execution_count": 2,
   "id": "7972c6a6-9f14-4435-a131-5206819b6fe2",
   "metadata": {},
   "outputs": [],
   "source": [
    "import numpy as np"
   ]
  },
  {
   "cell_type": "code",
   "execution_count": 4,
   "id": "8257687c-579c-481f-84a8-cd7a0ea7fd96",
   "metadata": {},
   "outputs": [],
   "source": [
    "from thinning import sample_hawkes_process_thinning_true_vectorised\n",
    "from utils import exp_kernel_vectorised, constant_background, plot_counting_process\n",
    "from mle import log_likelihood"
   ]
  },
  {
   "cell_type": "code",
   "execution_count": 25,
   "id": "060588b1-999c-4382-ab2a-33f78fd9c160",
   "metadata": {},
   "outputs": [],
   "source": [
    "mu, alpha, delta = 1, 1, 2"
   ]
  },
  {
   "cell_type": "code",
   "execution_count": 26,
   "id": "c64fa261-3f3a-4d0b-a7e1-b2ea2d2cde3f",
   "metadata": {},
   "outputs": [],
   "source": [
    "hawkes_seed=244659525681607163626346801839259531332\n",
    "\n",
    "max_T = 5.\n",
    "hawkes_realisation = sample_hawkes_process_thinning_true_vectorised(max_T, constant_background, exp_kernel_vectorised, seed=hawkes_seed)\n",
    "N = len(hawkes_realisation)"
   ]
  },
  {
   "cell_type": "code",
   "execution_count": 27,
   "id": "9da21e61-9980-4743-a501-c81e1bfb2fa5",
   "metadata": {},
   "outputs": [
    {
     "data": {
      "text/plain": [
       "[0.10153662201681525,\n",
       " 1.0186454364123092,\n",
       " 3.1778917433953993,\n",
       " 4.4237004367232675]"
      ]
     },
     "execution_count": 27,
     "metadata": {},
     "output_type": "execute_result"
    }
   ],
   "source": [
    "hawkes_realisation"
   ]
  },
  {
   "cell_type": "code",
   "execution_count": 47,
   "id": "4d2e8941-1028-45e3-99d5-21b561b2ae00",
   "metadata": {},
   "outputs": [],
   "source": [
    "hawkes_realisation = np.array(hawkes_realisation)[np.newaxis, :]"
   ]
  },
  {
   "cell_type": "code",
   "execution_count": 48,
   "id": "22b55386-3f98-40ac-bb00-c6786cecd4fe",
   "metadata": {},
   "outputs": [],
   "source": [
    "differences_from_max_T = max_T - hawkes_realisation"
   ]
  },
  {
   "cell_type": "code",
   "execution_count": 49,
   "id": "7a945030-c5c6-4de4-be86-d533ef5e25b8",
   "metadata": {},
   "outputs": [
    {
     "data": {
      "text/plain": [
       "array([[4.89846338, 3.98135456, 1.82210826, 0.57629956]])"
      ]
     },
     "execution_count": 49,
     "metadata": {},
     "output_type": "execute_result"
    }
   ],
   "source": [
    "differences_from_max_T"
   ]
  },
  {
   "cell_type": "code",
   "execution_count": 50,
   "id": "514903a2-23cc-4bb0-99fa-379ea74d4d85",
   "metadata": {},
   "outputs": [
    {
     "data": {
      "text/plain": [
       "-3.657639426640536"
      ]
     },
     "execution_count": 50,
     "metadata": {},
     "output_type": "execute_result"
    }
   ],
   "source": [
    "np.sum(np.exp(-delta*differences_from_max_T) - 1)"
   ]
  },
  {
   "cell_type": "code",
   "execution_count": 51,
   "id": "bcbe46ec-cc19-4115-a8d1-9f92d9f582e8",
   "metadata": {},
   "outputs": [
    {
     "data": {
      "text/plain": [
       "-3.657639426640536"
      ]
     },
     "execution_count": 51,
     "metadata": {},
     "output_type": "execute_result"
    }
   ],
   "source": [
    "np.sum(np.exp(-differences_from_max_T)**delta - 1)"
   ]
  },
  {
   "cell_type": "code",
   "execution_count": 52,
   "id": "f6429da8-d156-4932-8414-539cd3a0a33e",
   "metadata": {},
   "outputs": [
    {
     "data": {
      "text/plain": [
       "-3.6576394266405363"
      ]
     },
     "execution_count": 52,
     "metadata": {},
     "output_type": "execute_result"
    }
   ],
   "source": [
    "np.sum(np.exp(-differences_from_max_T)**delta) - N"
   ]
  },
  {
   "cell_type": "code",
   "execution_count": 59,
   "id": "9703ea1c-b06f-44e0-9acc-13521584d7db",
   "metadata": {},
   "outputs": [],
   "source": [
    "differences_mat = np.tril(hawkes_realisation.T - hawkes_realisation)"
   ]
  },
  {
   "cell_type": "code",
   "execution_count": 66,
   "id": "2b02d779-45f8-41c1-ba69-01283fe53a97",
   "metadata": {},
   "outputs": [
    {
     "data": {
      "text/plain": [
       "array([[0.        , 0.        , 0.        , 0.        ],\n",
       "       [0.91710881, 0.        , 0.        , 0.        ],\n",
       "       [3.07635512, 2.15924631, 0.        , 0.        ],\n",
       "       [4.32216381, 3.405055  , 1.24580869, 0.        ]])"
      ]
     },
     "execution_count": 66,
     "metadata": {},
     "output_type": "execute_result"
    }
   ],
   "source": [
    "differences_mat"
   ]
  },
  {
   "cell_type": "code",
   "execution_count": 76,
   "id": "566ac0b9-474f-427d-be7e-df17d9e39a8a",
   "metadata": {},
   "outputs": [
    {
     "data": {
      "text/plain": [
       "array([[0.        , 0.        , 0.        , 0.        ],\n",
       "       [0.15973843, 0.        , 0.        , 0.        ],\n",
       "       [0.00212771, 0.01331995, 0.        , 0.        ],\n",
       "       [0.00017612, 0.00110257, 0.08277598, 0.        ]])"
      ]
     },
     "execution_count": 76,
     "metadata": {},
     "output_type": "execute_result"
    }
   ],
   "source": [
    "np.tril(np.exp(-delta*differences_mat), k=-1)"
   ]
  },
  {
   "cell_type": "code",
   "execution_count": 69,
   "id": "91b36749-d098-4d58-9488-fe2faf407eb6",
   "metadata": {},
   "outputs": [
    {
     "data": {
      "text/plain": [
       "array([0.        , 0.15973843, 0.01544765, 0.08405467])"
      ]
     },
     "execution_count": 69,
     "metadata": {},
     "output_type": "execute_result"
    }
   ],
   "source": [
    "np.sum(np.tril(np.exp(-delta*(hawkes_realisation.T - hawkes_realisation)), k=-1), axis=1)"
   ]
  },
  {
   "cell_type": "code",
   "execution_count": 85,
   "id": "21e921a8-81e2-4906-a43a-c727040f05a9",
   "metadata": {},
   "outputs": [],
   "source": [
    "def lower_triangular_to_array_of_arrays(matrix):\n",
    "    result = []\n",
    "    n = matrix.shape[0]\n",
    "    for i in range(1, n):\n",
    "        row = matrix[i, :i]  # Extract nonzero elements in the current row\n",
    "        if len(row) > 0:\n",
    "            result.append(row)\n",
    "    return result"
   ]
  },
  {
   "cell_type": "code",
   "execution_count": 86,
   "id": "519951a6-1b48-4275-af4f-aec0393eb6ff",
   "metadata": {},
   "outputs": [
    {
     "data": {
      "text/plain": [
       "[array([0.91710881]),\n",
       " array([3.07635512, 2.15924631]),\n",
       " array([4.32216381, 3.405055  , 1.24580869])]"
      ]
     },
     "execution_count": 86,
     "metadata": {},
     "output_type": "execute_result"
    }
   ],
   "source": [
    "lower_triangular_to_array_of_arrays(differences_mat)"
   ]
  }
 ],
 "metadata": {
  "kernelspec": {
   "display_name": "Python 3 (ipykernel)",
   "language": "python",
   "name": "python3"
  },
  "language_info": {
   "codemirror_mode": {
    "name": "ipython",
    "version": 3
   },
   "file_extension": ".py",
   "mimetype": "text/x-python",
   "name": "python",
   "nbconvert_exporter": "python",
   "pygments_lexer": "ipython3",
   "version": "3.9.19"
  }
 },
 "nbformat": 4,
 "nbformat_minor": 5
}
